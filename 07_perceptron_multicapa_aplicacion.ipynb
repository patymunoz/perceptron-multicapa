{
 "cells": [
  {
   "cell_type": "code",
   "execution_count": null,
   "metadata": {},
   "outputs": [],
   "source": [
    "import os\n",
    "import numpy as np\n",
    "import openpyxl\n",
    "import pandas as pd\n",
    "import matplotlib.pyplot as plt\n",
    "import warnings\n",
    "warnings.filterwarnings('ignore')\n",
    "\n",
    "ruta = os.path.join('.', 'datos', 'PercMultAplicado.xlsx')\n",
    "datos = pd.read_excel(ruta)"
   ]
  },
  {
   "cell_type": "code",
   "execution_count": null,
   "metadata": {},
   "outputs": [],
   "source": [
    "datos"
   ]
  },
  {
   "cell_type": "code",
   "execution_count": null,
   "metadata": {},
   "outputs": [],
   "source": [
    "# ------------------------ limpieza de datos ------------------------ #\n",
    "datos.columns = datos.columns.str.lower()\n",
    "datos['carga'] = datos['mensualidad'] / datos['ingreso mensual']\n",
    "datos['mora_bool'] = datos.mora.replace({'SI': 1, 'NO': 0})\n",
    "datos.rename(columns={'antigüedad laboral (meses)': 'antiguedad_laboral_meses'}, inplace=True)\n",
    "\n",
    "subset = datos[['monto', 'antiguedad_laboral_meses', 'carga', 'mora_bool']]"
   ]
  },
  {
   "cell_type": "code",
   "execution_count": null,
   "metadata": {},
   "outputs": [],
   "source": [
    "subset"
   ]
  },
  {
   "cell_type": "markdown",
   "metadata": {},
   "source": [
    "# Histograma columna \"carga\""
   ]
  },
  {
   "cell_type": "code",
   "execution_count": null,
   "metadata": {},
   "outputs": [],
   "source": [
    "# graficar histograma de carga\n",
    "plt.hist(subset.carga, bins=20)\n",
    "plt.show()"
   ]
  },
  {
   "cell_type": "code",
   "execution_count": null,
   "metadata": {},
   "outputs": [],
   "source": [
    "subset.carga.min()"
   ]
  },
  {
   "cell_type": "code",
   "execution_count": null,
   "metadata": {},
   "outputs": [],
   "source": [
    "subset.carga.max()"
   ]
  },
  {
   "cell_type": "markdown",
   "metadata": {},
   "source": [
    "# Histograma columna \"monto\""
   ]
  },
  {
   "cell_type": "code",
   "execution_count": null,
   "metadata": {},
   "outputs": [],
   "source": [
    "plt.hist(subset.monto, bins=20)\n",
    "plt.show()"
   ]
  },
  {
   "cell_type": "code",
   "execution_count": null,
   "metadata": {},
   "outputs": [],
   "source": [
    "# calcular raíz cuadrada de monto\n",
    "subset['monto_sqrt'] = np.sqrt(subset.monto)"
   ]
  },
  {
   "cell_type": "code",
   "execution_count": null,
   "metadata": {},
   "outputs": [],
   "source": [
    "plt.hist(subset.monto_sqrt, bins=20)\n",
    "plt.show()"
   ]
  },
  {
   "cell_type": "code",
   "execution_count": null,
   "metadata": {},
   "outputs": [],
   "source": [
    "subset.monto_sqrt.min()"
   ]
  },
  {
   "cell_type": "code",
   "execution_count": null,
   "metadata": {},
   "outputs": [],
   "source": [
    "subset.monto_sqrt.max()"
   ]
  },
  {
   "cell_type": "code",
   "execution_count": null,
   "metadata": {},
   "outputs": [],
   "source": [
    "# ------------------ ingeniería de características ------------------ #\n",
    "\n",
    "# normalizar monto con min-max\n",
    "subset['monto_norm'] = (subset.monto_sqrt - 100) / (600 - 100)"
   ]
  },
  {
   "cell_type": "code",
   "execution_count": null,
   "metadata": {},
   "outputs": [],
   "source": [
    "subset"
   ]
  },
  {
   "cell_type": "code",
   "execution_count": null,
   "metadata": {},
   "outputs": [],
   "source": [
    "subset.monto_norm.min()"
   ]
  },
  {
   "cell_type": "code",
   "execution_count": null,
   "metadata": {},
   "outputs": [],
   "source": [
    "subset.monto_norm.max()"
   ]
  },
  {
   "cell_type": "markdown",
   "metadata": {},
   "source": [
    "# Histograma columna \"antiguedad_laboral_meses\""
   ]
  },
  {
   "cell_type": "code",
   "execution_count": null,
   "metadata": {},
   "outputs": [],
   "source": [
    "plt.hist(subset.antiguedad_laboral_meses, bins=20)\n",
    "plt.show()"
   ]
  },
  {
   "cell_type": "code",
   "execution_count": null,
   "metadata": {},
   "outputs": [],
   "source": [
    "# normalizar antiguedad_laboral_meses con min-max\n",
    "subset['al_norm'] = (subset.antiguedad_laboral_meses - 0) / (subset.antiguedad_laboral_meses.max() - 0)"
   ]
  },
  {
   "cell_type": "code",
   "execution_count": null,
   "metadata": {},
   "outputs": [],
   "source": [
    "subset"
   ]
  },
  {
   "cell_type": "code",
   "execution_count": null,
   "metadata": {},
   "outputs": [],
   "source": [
    "subset.al_norm.min()"
   ]
  },
  {
   "cell_type": "code",
   "execution_count": null,
   "metadata": {},
   "outputs": [],
   "source": [
    "subset.al_norm.max()"
   ]
  },
  {
   "cell_type": "code",
   "execution_count": null,
   "metadata": {},
   "outputs": [],
   "source": [
    "subset_norm = subset[['carga', 'monto_norm', 'al_norm', 'mora_bool']]\n",
    "subset_norm"
   ]
  },
  {
   "cell_type": "markdown",
   "metadata": {},
   "source": [
    "# Proceso de creación de función para generar los sets de entrenamiento y testeo"
   ]
  },
  {
   "cell_type": "code",
   "execution_count": null,
   "metadata": {},
   "outputs": [],
   "source": [
    "from generacion_sets import generar_sets\n",
    "\n",
    "# ------------------------ generación de sets ------------------------ #\n",
    "train, test = generar_sets(df=subset_norm, col_bool='mora_bool', prop=0.7, prop_interna_f=0.8, prop_interna_t=0.2)"
   ]
  },
  {
   "cell_type": "code",
   "execution_count": null,
   "metadata": {},
   "outputs": [],
   "source": [
    "train.mora_bool.value_counts()"
   ]
  },
  {
   "cell_type": "code",
   "execution_count": null,
   "metadata": {},
   "outputs": [],
   "source": [
    "test.mora_bool.value_counts()"
   ]
  },
  {
   "cell_type": "code",
   "execution_count": null,
   "metadata": {},
   "outputs": [],
   "source": [
    "train"
   ]
  },
  {
   "cell_type": "code",
   "execution_count": null,
   "metadata": {},
   "outputs": [],
   "source": [
    "test"
   ]
  },
  {
   "cell_type": "markdown",
   "metadata": {},
   "source": [
    "# Entrenamiento de la red neuronal"
   ]
  },
  {
   "cell_type": "code",
   "execution_count": null,
   "metadata": {},
   "outputs": [],
   "source": [
    "# -------------------- # Preparación de los datos # ---------------------- #\n",
    "\n",
    "# Separar en X y d\n",
    "X = train[['carga', 'monto_norm', 'al_norm']].to_numpy().astype(float)\n",
    "d = train['mora_bool'].to_numpy().astype(float)"
   ]
  },
  {
   "cell_type": "code",
   "execution_count": null,
   "metadata": {},
   "outputs": [],
   "source": [
    "# ------------------------------ # Fase 1 # ------------------------------ #\n",
    "# definiendo las dimensiones\n",
    "Q, N = X.shape  # Q es el número de ejemplos, N es el número de entradas\n",
    "L = 6 #  neuronas en la capa oculta\n",
    "M = 1 #  neuronas en la capa de salida\n",
    "\n",
    "# inicializando los pesos (de inicio, son aleatorios)\n",
    "w_h = np.random.uniform(-1, 1, (L, N))\n",
    "w_o = np.random.uniform(-1, 1, (M, L))"
   ]
  },
  {
   "cell_type": "code",
   "execution_count": null,
   "metadata": {},
   "outputs": [],
   "source": [
    "print(Q, N, L, M)\n",
    "print(w_h.shape)\n",
    "print(w_o.shape)"
   ]
  },
  {
   "cell_type": "code",
   "execution_count": null,
   "metadata": {},
   "outputs": [],
   "source": [
    "# -------------------- # Preparación de los datos # ---------------------- #\n",
    "\n",
    "# función de activación (el cerebro)\n",
    "def func_sigmoidea(x):\n",
    "    return 1 / (1 + np.exp(-x))"
   ]
  },
  {
   "cell_type": "code",
   "execution_count": null,
   "metadata": {},
   "outputs": [],
   "source": [
    "# -------------------- # función de entrenamiento # ---------------------- #\n",
    "def proceso_entrenamiento(x, d, w_h, w_o, alfa, precision):\n",
    "    \"\"\"\n",
    "    Genera los pesos del perceptrón multicapa.\n",
    "\n",
    "    Parámetros:\n",
    "    ----------\n",
    "    x : np.ndarray\n",
    "        Matriz de entradas.\n",
    "    d : np.ndarray\n",
    "        Matriz de salidas deseadas.\n",
    "    w_h : np.ndarray\n",
    "        Matriz de pesos de la capa oculta.\n",
    "    w_o : np.ndarray\n",
    "        Matriz de pesos de la capa de salida.\n",
    "    alfa : float\n",
    "        Tasa de aprendizaje.\n",
    "    precision : float\n",
    "        Precisión del error.\n",
    "    \n",
    "    Regresa:\n",
    "    --------\n",
    "    w_h : np.ndarray\n",
    "        Matriz de pesos de la capa oculta.\n",
    "    w_o : np.ndarray\n",
    "        Matriz de pesos de la capa de salida.\n",
    "    \"\"\"\n",
    "    # Procedimiento de entrenamiento\n",
    "    E = float('inf')\n",
    "\n",
    "    while E > precision:\n",
    "        E = 0\n",
    "        for j in range(Q):\n",
    "            # proceso forward\n",
    "            net_h = np.dot(w_h, x[j].T)\n",
    "            y_h = func_sigmoidea(net_h)\n",
    "            net_o = np.dot(w_o, y_h)\n",
    "            y = func_sigmoidea(net_o)\n",
    "\n",
    "            # proceso backward\n",
    "            delta_o = ((d[j] - y) * y * (1 - y))\n",
    "            delta_h = y_h * (1 - y_h) * np.dot(w_o.T, delta_o)\n",
    "            # ajuste de los pesos (w's)\n",
    "            Delta_w_o = alfa * np.outer(delta_o, y_h)\n",
    "            Delta_w_h = alfa * np.outer(delta_h, x[j])\n",
    "\n",
    "            w_o = w_o + Delta_w_o\n",
    "            w_h = w_h + Delta_w_h\n",
    "\n",
    "            # Acumulando el error\n",
    "            E += np.linalg.norm(delta_o)\n",
    "\n",
    "        print(f'error: {E}')\n",
    "\n",
    "    return w_h, w_o "
   ]
  },
  {
   "cell_type": "code",
   "execution_count": null,
   "metadata": {},
   "outputs": [],
   "source": [
    "# ------------------ # proceso de entrenamiento # -------------------- #\n",
    "w_h, w_o = proceso_entrenamiento(X, d, w_h, w_o, alfa=0.5, precision=0.001)"
   ]
  }
 ],
 "metadata": {
  "kernelspec": {
   "display_name": "metodos_numericos",
   "language": "python",
   "name": "python3"
  },
  "language_info": {
   "codemirror_mode": {
    "name": "ipython",
    "version": 3
   },
   "file_extension": ".py",
   "mimetype": "text/x-python",
   "name": "python",
   "nbconvert_exporter": "python",
   "pygments_lexer": "ipython3",
   "version": "3.10.0"
  }
 },
 "nbformat": 4,
 "nbformat_minor": 2
}

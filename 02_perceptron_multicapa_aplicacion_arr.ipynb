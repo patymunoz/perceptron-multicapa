{
 "cells": [
  {
   "cell_type": "code",
   "execution_count": 39,
   "metadata": {},
   "outputs": [],
   "source": [
    "import os\n",
    "import numpy as np\n",
    "import openpyxl\n",
    "import pandas as pd\n",
    "import matplotlib.pyplot as plt\n",
    "import warnings\n",
    "warnings.filterwarnings('ignore')\n",
    "\n",
    "ruta = os.path.join('.', 'datos', 'PercMultAplicado.xlsx')\n",
    "datos = pd.read_excel(ruta)"
   ]
  },
  {
   "cell_type": "code",
   "execution_count": 40,
   "metadata": {},
   "outputs": [
    {
     "data": {
      "text/html": [
       "<div>\n",
       "<style scoped>\n",
       "    .dataframe tbody tr th:only-of-type {\n",
       "        vertical-align: middle;\n",
       "    }\n",
       "\n",
       "    .dataframe tbody tr th {\n",
       "        vertical-align: top;\n",
       "    }\n",
       "\n",
       "    .dataframe thead th {\n",
       "        text-align: right;\n",
       "    }\n",
       "</style>\n",
       "<table border=\"1\" class=\"dataframe\">\n",
       "  <thead>\n",
       "    <tr style=\"text-align: right;\">\n",
       "      <th></th>\n",
       "      <th>Entidad</th>\n",
       "      <th>Monto</th>\n",
       "      <th>Mensualidad</th>\n",
       "      <th>Plazo (años)</th>\n",
       "      <th>Tasa anual</th>\n",
       "      <th>Ingreso mensual</th>\n",
       "      <th>Antigüedad laboral (meses)</th>\n",
       "      <th>Mora</th>\n",
       "    </tr>\n",
       "  </thead>\n",
       "  <tbody>\n",
       "    <tr>\n",
       "      <th>0</th>\n",
       "      <td>Sinaloa</td>\n",
       "      <td>299200</td>\n",
       "      <td>6277.86</td>\n",
       "      <td>20</td>\n",
       "      <td>0.25</td>\n",
       "      <td>33911.00</td>\n",
       "      <td>58</td>\n",
       "      <td>SI</td>\n",
       "    </tr>\n",
       "    <tr>\n",
       "      <th>1</th>\n",
       "      <td>Michoacán de Ocampo</td>\n",
       "      <td>281100</td>\n",
       "      <td>9373.58</td>\n",
       "      <td>20</td>\n",
       "      <td>0.40</td>\n",
       "      <td>112783.48</td>\n",
       "      <td>149</td>\n",
       "      <td>NO</td>\n",
       "    </tr>\n",
       "    <tr>\n",
       "      <th>2</th>\n",
       "      <td>Nuevo León</td>\n",
       "      <td>268800</td>\n",
       "      <td>8963.43</td>\n",
       "      <td>20</td>\n",
       "      <td>0.40</td>\n",
       "      <td>33186.96</td>\n",
       "      <td>134</td>\n",
       "      <td>NO</td>\n",
       "    </tr>\n",
       "    <tr>\n",
       "      <th>3</th>\n",
       "      <td>Guerrero</td>\n",
       "      <td>256600</td>\n",
       "      <td>9106.81</td>\n",
       "      <td>5</td>\n",
       "      <td>0.35</td>\n",
       "      <td>51118.90</td>\n",
       "      <td>77</td>\n",
       "      <td>NO</td>\n",
       "    </tr>\n",
       "    <tr>\n",
       "      <th>4</th>\n",
       "      <td>Yucatán</td>\n",
       "      <td>256500</td>\n",
       "      <td>5381.92</td>\n",
       "      <td>20</td>\n",
       "      <td>0.25</td>\n",
       "      <td>197168.90</td>\n",
       "      <td>5</td>\n",
       "      <td>SI</td>\n",
       "    </tr>\n",
       "    <tr>\n",
       "      <th>...</th>\n",
       "      <td>...</td>\n",
       "      <td>...</td>\n",
       "      <td>...</td>\n",
       "      <td>...</td>\n",
       "      <td>...</td>\n",
       "      <td>...</td>\n",
       "      <td>...</td>\n",
       "      <td>...</td>\n",
       "    </tr>\n",
       "    <tr>\n",
       "      <th>995</th>\n",
       "      <td>Baja California Sur</td>\n",
       "      <td>18700</td>\n",
       "      <td>473.05</td>\n",
       "      <td>15</td>\n",
       "      <td>0.30</td>\n",
       "      <td>2861.95</td>\n",
       "      <td>150</td>\n",
       "      <td>NO</td>\n",
       "    </tr>\n",
       "    <tr>\n",
       "      <th>996</th>\n",
       "      <td>Baja California</td>\n",
       "      <td>16600</td>\n",
       "      <td>416.11</td>\n",
       "      <td>20</td>\n",
       "      <td>0.30</td>\n",
       "      <td>3618.79</td>\n",
       "      <td>25</td>\n",
       "      <td>SI</td>\n",
       "    </tr>\n",
       "    <tr>\n",
       "      <th>997</th>\n",
       "      <td>Colima</td>\n",
       "      <td>16400</td>\n",
       "      <td>582.04</td>\n",
       "      <td>5</td>\n",
       "      <td>0.35</td>\n",
       "      <td>3770.64</td>\n",
       "      <td>107</td>\n",
       "      <td>NO</td>\n",
       "    </tr>\n",
       "    <tr>\n",
       "      <th>998</th>\n",
       "      <td>Morelos</td>\n",
       "      <td>14600</td>\n",
       "      <td>384.88</td>\n",
       "      <td>10</td>\n",
       "      <td>0.30</td>\n",
       "      <td>1751.91</td>\n",
       "      <td>60</td>\n",
       "      <td>NO</td>\n",
       "    </tr>\n",
       "    <tr>\n",
       "      <th>999</th>\n",
       "      <td>Guerrero</td>\n",
       "      <td>13500</td>\n",
       "      <td>396.24</td>\n",
       "      <td>5</td>\n",
       "      <td>0.25</td>\n",
       "      <td>1297.73</td>\n",
       "      <td>69</td>\n",
       "      <td>NO</td>\n",
       "    </tr>\n",
       "  </tbody>\n",
       "</table>\n",
       "<p>1000 rows × 8 columns</p>\n",
       "</div>"
      ],
      "text/plain": [
       "                 Entidad   Monto  Mensualidad  Plazo (años)  Tasa anual  \\\n",
       "0                Sinaloa  299200      6277.86            20        0.25   \n",
       "1    Michoacán de Ocampo  281100      9373.58            20        0.40   \n",
       "2             Nuevo León  268800      8963.43            20        0.40   \n",
       "3               Guerrero  256600      9106.81             5        0.35   \n",
       "4                Yucatán  256500      5381.92            20        0.25   \n",
       "..                   ...     ...          ...           ...         ...   \n",
       "995  Baja California Sur   18700       473.05            15        0.30   \n",
       "996      Baja California   16600       416.11            20        0.30   \n",
       "997               Colima   16400       582.04             5        0.35   \n",
       "998              Morelos   14600       384.88            10        0.30   \n",
       "999             Guerrero   13500       396.24             5        0.25   \n",
       "\n",
       "     Ingreso mensual  Antigüedad laboral (meses) Mora  \n",
       "0           33911.00                          58   SI  \n",
       "1          112783.48                         149   NO  \n",
       "2           33186.96                         134   NO  \n",
       "3           51118.90                          77   NO  \n",
       "4          197168.90                           5   SI  \n",
       "..               ...                         ...  ...  \n",
       "995          2861.95                         150   NO  \n",
       "996          3618.79                          25   SI  \n",
       "997          3770.64                         107   NO  \n",
       "998          1751.91                          60   NO  \n",
       "999          1297.73                          69   NO  \n",
       "\n",
       "[1000 rows x 8 columns]"
      ]
     },
     "execution_count": 40,
     "metadata": {},
     "output_type": "execute_result"
    }
   ],
   "source": [
    "datos"
   ]
  },
  {
   "cell_type": "code",
   "execution_count": 41,
   "metadata": {},
   "outputs": [],
   "source": [
    "def limpieza_datos(d, salida, bool):\n",
    "    \"\"\" \n",
    "    Homogeniza los nombres de las columnas en minísculas y convierte la variable de salida en booleana.\n",
    "\n",
    "    Parámetros:\n",
    "    ------------\n",
    "    d: DataFrame\n",
    "        DataFrame con los datos a limpiar.\n",
    "    salida: string\n",
    "        Nombre de la columna que contiene la variable de salida.\n",
    "    bool: dict\n",
    "        Diccionario con los valores a reemplazar en la columna de salida.\n",
    "\n",
    "    Regresa:\n",
    "    ------------\n",
    "    d: DataFrame\n",
    "        DataFrame con los datos limpios.\n",
    "    \"\"\"\n",
    "    d.columns = d.columns.str.lower()\n",
    "    d[f'{salida}_bool'] = d[salida].replace(bool)\n",
    "    return d"
   ]
  },
  {
   "cell_type": "code",
   "execution_count": 42,
   "metadata": {},
   "outputs": [],
   "source": [
    "# ------------------------ limpieza de datos ------------------------ #\n",
    "D = limpieza_datos(datos, 'mora', {'SI': 1, 'NO': 0})\n",
    "D['carga'] = D['mensualidad'] / D['ingreso mensual']\n",
    "#D.rename(columns={'antigüedad laboral (meses)': 'antiguedad_laboral_meses'}, inplace=True)\n",
    "\n",
    "subset = D[['monto', 'antigüedad laboral (meses)', 'carga', 'mora_bool']].to_numpy()"
   ]
  },
  {
   "cell_type": "markdown",
   "metadata": {},
   "source": [
    "### Estandarización de datos"
   ]
  },
  {
   "cell_type": "code",
   "execution_count": 43,
   "metadata": {},
   "outputs": [
    {
     "data": {
      "image/png": "[encoded data removed]",
      "text/plain": [
       "<Figure size 640x480 with 1 Axes>"
      ]
     },
     "metadata": {},
     "output_type": "display_data"
    }
   ],
   "source": [
    "# columna 2: \"carga\"\n",
    "plt.hist(subset[:,2], color='purple', alpha=0.6)\n",
    "plt.title('Histograma de carga')\n",
    "plt.xlabel('Carga')\n",
    "plt.ylabel('Frecuencia')\n",
    "plt.show()"
   ]
  },
  {
   "cell_type": "code",
   "execution_count": 44,
   "metadata": {},
   "outputs": [
    {
     "name": "stdout",
     "output_type": "stream",
     "text": [
      "mínimo: 0.0021474142693629914 máximo: 0.3327304085775127\n"
     ]
    }
   ],
   "source": [
    "print(\"mínimo:\", subset[:,2].min(), \"máximo:\", subset[:,2].max())"
   ]
  },
  {
   "cell_type": "code",
   "execution_count": 45,
   "metadata": {},
   "outputs": [
    {
     "data": {
      "image/png": "[encoded data removed]",
      "text/plain": [
       "<Figure size 640x480 with 1 Axes>"
      ]
     },
     "metadata": {},
     "output_type": "display_data"
    }
   ],
   "source": [
    "# columna 0: \"monto\"\n",
    "plt.hist(subset[:,0], color='purple', alpha=0.6)\n",
    "plt.title('Histograma de monto')\n",
    "plt.xlabel('Monto')\n",
    "plt.ylabel('Frecuencia')\n",
    "plt.show()"
   ]
  },
  {
   "cell_type": "code",
   "execution_count": 46,
   "metadata": {},
   "outputs": [],
   "source": [
    "# calcula la raíz cuadrada\n",
    "sqrt_c = np.sqrt(subset[:, 0]).reshape(-1, 1)\n",
    "subset = np.hstack((subset, sqrt_c))"
   ]
  },
  {
   "cell_type": "code",
   "execution_count": 47,
   "metadata": {},
   "outputs": [
    {
     "data": {
      "image/png": "[encoded data removed]",
      "text/plain": [
       "<Figure size 640x480 with 1 Axes>"
      ]
     },
     "metadata": {},
     "output_type": "display_data"
    }
   ],
   "source": [
    "# columna 4: \"raíz cuadrada de monto\"\n",
    "plt.hist(subset[:,4], color='purple', alpha=0.6)\n",
    "plt.title('Histograma de monto raíz cuadrada')\n",
    "plt.xlabel('Monto raíz cuadrada')\n",
    "plt.ylabel('Frecuencia')\n",
    "plt.show()"
   ]
  },
  {
   "cell_type": "code",
   "execution_count": 48,
   "metadata": {},
   "outputs": [
    {
     "name": "stdout",
     "output_type": "stream",
     "text": [
      "mínimo: 116.1895003862225 máximo: 546.9917732470938\n"
     ]
    }
   ],
   "source": [
    "print(\"mínimo:\", subset[:,4].min(), \"máximo:\", subset[:,4].max())"
   ]
  },
  {
   "cell_type": "code",
   "execution_count": 49,
   "metadata": {},
   "outputs": [],
   "source": [
    "# monto con min-max\n",
    "monto_norm = (subset[:,4] - 100) / (600- 100)\n",
    "subset = np.hstack((subset, monto_norm.reshape(-1, 1)))"
   ]
  },
  {
   "cell_type": "code",
   "execution_count": 50,
   "metadata": {},
   "outputs": [
    {
     "name": "stdout",
     "output_type": "stream",
     "text": [
      "mínimo: 0.03237900077244501 máximo: 0.8939835464941875\n"
     ]
    }
   ],
   "source": [
    "print(\"mínimo:\", subset[:,5].min(), \"máximo:\", subset[:,5].max())"
   ]
  },
  {
   "cell_type": "code",
   "execution_count": 51,
   "metadata": {},
   "outputs": [
    {
     "data": {
      "image/png": "[encoded data removed]",
      "text/plain": [
       "<Figure size 640x480 with 1 Axes>"
      ]
     },
     "metadata": {},
     "output_type": "display_data"
    }
   ],
   "source": [
    "# columna 1: \"antigüedad laboral (meses)\"\n",
    "plt.hist(subset[:,1], color='purple', alpha=0.6)\n",
    "plt.title('Histograma de antigüedad laboral')\n",
    "plt.xlabel('Antigüedad laboral')\n",
    "plt.ylabel('Frecuencia')\n",
    "plt.show()"
   ]
  },
  {
   "cell_type": "code",
   "execution_count": 52,
   "metadata": {},
   "outputs": [],
   "source": [
    "# antiguedad_laboral_meses con min-max\n",
    "al_norm = (subset[:,1] - 0) / (subset[:,1].max() - 0)\n",
    "subset = np.hstack((subset, al_norm.reshape(-1, 1)))"
   ]
  },
  {
   "cell_type": "code",
   "execution_count": 53,
   "metadata": {},
   "outputs": [
    {
     "name": "stdout",
     "output_type": "stream",
     "text": [
      "mínimo: 0.005555555555555556 máximo: 1.0\n"
     ]
    }
   ],
   "source": [
    "print(\"mínimo:\", subset[:,6].min(), \"máximo:\", subset[:,6].max())"
   ]
  },
  {
   "cell_type": "code",
   "execution_count": 54,
   "metadata": {},
   "outputs": [],
   "source": [
    "# subset final normalizado\n",
    "subset_norm = subset[:, [2, 5, 6, 3]]"
   ]
  },
  {
   "cell_type": "markdown",
   "metadata": {},
   "source": [
    "### Proceso para generar los sets de entrenamiento y testeo"
   ]
  },
  {
   "cell_type": "code",
   "execution_count": 55,
   "metadata": {},
   "outputs": [],
   "source": [
    "from generacion_sets import generar_sets_arr\n",
    "\n",
    "# ------------------------ generación de sets ------------------------ #\n",
    "train, test = generar_sets_arr(subset_norm, arr=subset_norm[:, 3], prop=0.7, prop_interna_f=0.8, prop_interna_t=0.2)"
   ]
  },
  {
   "cell_type": "code",
   "execution_count": 56,
   "metadata": {},
   "outputs": [
    {
     "name": "stdout",
     "output_type": "stream",
     "text": [
      "train: (700, 4)\n",
      "test: (300, 4)\n",
      "train 0: 140.0 test 0: 69.0\n",
      "train 1: 560.0 test 1: 231.0\n"
     ]
    }
   ],
   "source": [
    "# ------------------------ información de los sets ------------------------ #\n",
    "print(\"train:\", train.shape)\n",
    "print(\"test:\", test.shape)\n",
    "\n",
    "print(\"train 0:\", np.sum(train[:, 3]), \"test 0:\", np.sum(test[:, 3]))\n",
    "print(\"train 1:\", train.shape[0] - np.sum(train[:, 3]), \"test 1:\", test.shape[0] - np.sum(test[:, 3]))"
   ]
  },
  {
   "cell_type": "markdown",
   "metadata": {},
   "source": [
    "# Entrenamiento de la red neuronal"
   ]
  },
  {
   "cell_type": "code",
   "execution_count": 57,
   "metadata": {},
   "outputs": [],
   "source": [
    "# -------------------- # Preparación de los datos # ---------------------- #\n",
    "X = train[:, 0:3]\n",
    "d = train[:, 3].reshape(-1, 1)"
   ]
  },
  {
   "cell_type": "code",
   "execution_count": 58,
   "metadata": {},
   "outputs": [],
   "source": [
    "# ------------------------------ # Fase 1 # ------------------------------ #\n",
    "# definiendo las dimensiones\n",
    "N = X.shape[1]  #N es el número de entradas\n",
    "L = 4 #  neuronas en la capa oculta\n",
    "M = 1 #  neuronas en la capa de salida\n",
    "\n",
    "# inicializando los pesos (de inicio, son aleatorios)\n",
    "w_h = np.random.uniform(-1, 1, (L, N))\n",
    "w_o = np.random.uniform(-1, 1, (M, L))"
   ]
  },
  {
   "cell_type": "code",
   "execution_count": 59,
   "metadata": {},
   "outputs": [
    {
     "name": "stdout",
     "output_type": "stream",
     "text": [
      "3 4 1\n",
      "(4, 3)\n",
      "(1, 4)\n"
     ]
    }
   ],
   "source": [
    "print(N, L, M)\n",
    "print(w_h.shape)\n",
    "print(w_o.shape)"
   ]
  },
  {
   "cell_type": "code",
   "execution_count": 60,
   "metadata": {},
   "outputs": [],
   "source": [
    "from perceptron_multicapa import proceso_entrenamiento\n",
    "\n",
    "# ------------------ # proceso de entrenamiento # -------------------- #\n",
    "w_h, w_o = proceso_entrenamiento(X, d, w_h, w_o, Q=X.shape[0], alfa=0.05, precision=0.00001)"
   ]
  },
  {
   "cell_type": "code",
   "execution_count": 61,
   "metadata": {},
   "outputs": [
    {
     "data": {
      "text/plain": [
       "array([[-3.60702883,  1.05120117, -2.0816707 ],\n",
       "       [-3.72376302,  1.14502917, -2.55174711],\n",
       "       [ 4.06562133, -2.73223481,  4.45063694],\n",
       "       [ 1.06292263,  0.52936013,  0.58062142]])"
      ]
     },
     "execution_count": 61,
     "metadata": {},
     "output_type": "execute_result"
    }
   ],
   "source": [
    "w_h"
   ]
  },
  {
   "cell_type": "code",
   "execution_count": 62,
   "metadata": {},
   "outputs": [
    {
     "data": {
      "text/plain": [
       "array([[ 5.25168578,  6.38298247, -6.32367534, -0.24349482]])"
      ]
     },
     "execution_count": 62,
     "metadata": {},
     "output_type": "execute_result"
    }
   ],
   "source": [
    "w_o"
   ]
  },
  {
   "cell_type": "markdown",
   "metadata": {},
   "source": [
    "### Datos de entrenamiento"
   ]
  },
  {
   "cell_type": "code",
   "execution_count": 63,
   "metadata": {},
   "outputs": [],
   "source": [
    "from perceptron_multicapa import proceso_funcionamiento\n",
    "\n",
    "x_train = train[:, 0:3]\n",
    "N = x_train.shape[1]\n",
    "\n",
    "# ----------------- # Proceso de funcionamiento # ------------------- #\n",
    "y_pred_train = proceso_funcionamiento(x_train, Q=x_train.shape[0], M=1, w_h=w_h, w_o=w_o)"
   ]
  },
  {
   "cell_type": "code",
   "execution_count": 64,
   "metadata": {},
   "outputs": [],
   "source": [
    "# ----------------- # Evaluación del entrenamiento # ------------------- #\n",
    "\n",
    "# juntar y_pred_train con subset_norm[:, 3]\n",
    "y_pred_train = np.hstack((y_pred_train, train[:, 3].reshape(-1, 1)))\n",
    "\n",
    "# generar un array de comparación con true/false\n",
    "y_pred = pd.DataFrame(y_pred_train, columns=['y_pred', 'd'])\n",
    "\n",
    "# comparar y_pred con d\n",
    "y_pred['comparacion'] = y_pred.y_pred == y_pred.d"
   ]
  },
  {
   "cell_type": "code",
   "execution_count": 65,
   "metadata": {},
   "outputs": [
    {
     "name": "stdout",
     "output_type": "stream",
     "text": [
      "accuracy: 0.9785714285714285\n"
     ]
    }
   ],
   "source": [
    "# ----------------- # Accuracy # ------------------- #\n",
    "accuracy = y_pred.comparacion.sum() / y_pred.shape[0]\n",
    "print(\"accuracy:\", accuracy)"
   ]
  },
  {
   "cell_type": "markdown",
   "metadata": {},
   "source": [
    "### Datos de testeo"
   ]
  },
  {
   "cell_type": "code",
   "execution_count": 66,
   "metadata": {},
   "outputs": [],
   "source": [
    "x_test = test[:, 0:3]\n",
    "N = x_test.shape[1]\n",
    "d_test = test[:, 3].reshape(-1, 1)\n",
    "\n",
    "# ----------------- # Proceso de funcionamiento # ------------------- #\n",
    "y_pred_test = proceso_funcionamiento(x_test, Q=x_test.shape[0], M=1, w_h=w_h, w_o=w_o)"
   ]
  },
  {
   "cell_type": "code",
   "execution_count": 67,
   "metadata": {},
   "outputs": [],
   "source": [
    "# ----------------- # Evaluación del entrenamiento # ------------------- #\n",
    "\n",
    "# juntar y_pred_test con subset_norm[:, 3]\n",
    "y_pred_test = np.hstack((y_pred_test, d_test))\n",
    "\n",
    "# generar un array de comparación con true/false\n",
    "y_pred = pd.DataFrame(y_pred_test, columns=['y_pred', 'd'])\n",
    "\n",
    "# comparar y_pred con d\n",
    "y_pred['comparacion'] = y_pred.y_pred == y_pred.d"
   ]
  },
  {
   "cell_type": "code",
   "execution_count": 68,
   "metadata": {},
   "outputs": [
    {
     "name": "stdout",
     "output_type": "stream",
     "text": [
      "accuracy: 0.9833333333333333\n"
     ]
    }
   ],
   "source": [
    "# ----------------- # Accuracy # ------------------- #\n",
    "accuracy = y_pred.comparacion.sum() / y_pred.shape[0]\n",
    "print(\"accuracy:\", accuracy)"
   ]
  },
  {
   "cell_type": "markdown",
   "metadata": {},
   "source": [
    "### Graficar"
   ]
  }
 ],
 "metadata": {
  "kernelspec": {
   "display_name": "metodos_numericos",
   "language": "python",
   "name": "python3"
  },
  "language_info": {
   "codemirror_mode": {
    "name": "ipython",
    "version": 3
   },
   "file_extension": ".py",
   "mimetype": "text/x-python",
   "name": "python",
   "nbconvert_exporter": "python",
   "pygments_lexer": "ipython3",
   "version": "3.10.0"
  }
 },
 "nbformat": 4,
 "nbformat_minor": 2
}
